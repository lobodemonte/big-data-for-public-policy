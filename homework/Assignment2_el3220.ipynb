{
 "cells": [
  {
   "cell_type": "code",
   "execution_count": 2,
   "metadata": {},
   "outputs": [
    {
     "name": "stdout",
     "output_type": "stream",
     "text": [
      "Populating the interactive namespace from numpy and matplotlib\n"
     ]
    }
   ],
   "source": [
    "# remember to put this line in your notebook, otherwise the visualization won't show up\n",
    "%pylab inline\n",
    "\n",
    "import numpy as np\n",
    "import pandas as pd\n",
    "import matplotlib.pyplot as plt\n",
    "import seaborn as sns\n",
    "pd.options.display.max_columns = 100\n",
    "pd.options.display.float_format = '{:.0f}'.format\n",
    "\n",
    "import statsmodels.formula.api as sm\n",
    "import dateutil"
   ]
  },
  {
   "cell_type": "code",
   "execution_count": 3,
   "metadata": {},
   "outputs": [],
   "source": [
    "# abstract2012 = pd.read_csv(\"/home/jovyan/Yandex.Disk/BigDataPubPol/data/abstracts/FedRePORTER_PRJABS_C_FY2012.csv\", \n",
    "#                  encoding='utf-8', skipinitialspace=True, low_memory=False)\n",
    "# abstract2012.head()"
   ]
  },
  {
   "cell_type": "code",
   "execution_count": 4,
   "metadata": {},
   "outputs": [],
   "source": [
    "# patents2012 = pd.read_csv(\"/home/jovyan/Yandex.Disk/BigDataPubPol/data/patents/patents_2012.csv\", \n",
    "#                  encoding='utf-8', skipinitialspace=True, low_memory=False)\n",
    "# patents2012.head()"
   ]
  },
  {
   "cell_type": "code",
   "execution_count": 5,
   "metadata": {},
   "outputs": [],
   "source": [
    "# fedrep2012 = pd.read_csv(\"/home/jovyan/Yandex.Disk/BigDataPubPol/data/projects/FedRePORTER_PRJ_C_FY2012.csv\", \n",
    "#                  encoding='utf-8', skipinitialspace=True, low_memory=False)\n",
    "# fedrep2012.head(3)"
   ]
  },
  {
   "cell_type": "code",
   "execution_count": 6,
   "metadata": {},
   "outputs": [],
   "source": [
    "# print(fedrep2012['ORGANIZATION_COUNTRY'].unique())\n",
    "# print((fedrep2012[fedrep2012['ORGANIZATION_COUNTRY'] == 'UNITED STATES']\n",
    "#        ['ORGANIZATION_STATE'].unique()))\n",
    "# fedrep2012['PROJECT_START_DATE'] = pd.to_datetime(fedrep2012['PROJECT_START_DATE'])"
   ]
  },
  {
   "cell_type": "code",
   "execution_count": 7,
   "metadata": {},
   "outputs": [
    {
     "data": {
      "text/html": [
       "<div>\n",
       "<style scoped>\n",
       "    .dataframe tbody tr th:only-of-type {\n",
       "        vertical-align: middle;\n",
       "    }\n",
       "\n",
       "    .dataframe tbody tr th {\n",
       "        vertical-align: top;\n",
       "    }\n",
       "\n",
       "    .dataframe thead th {\n",
       "        text-align: right;\n",
       "    }\n",
       "</style>\n",
       "<table border=\"1\" class=\"dataframe\">\n",
       "  <thead>\n",
       "    <tr style=\"text-align: right;\">\n",
       "      <th></th>\n",
       "      <th>CONGRESSIONAL_DISTRICT</th>\n",
       "      <th>ORGANIZATION_STATE</th>\n",
       "      <th>FY</th>\n",
       "      <th>FY_TOTAL_COST</th>\n",
       "    </tr>\n",
       "  </thead>\n",
       "  <tbody>\n",
       "    <tr>\n",
       "      <th>0</th>\n",
       "      <td>0</td>\n",
       "      <td>AK</td>\n",
       "      <td>2012</td>\n",
       "      <td>68812110</td>\n",
       "    </tr>\n",
       "    <tr>\n",
       "      <th>1</th>\n",
       "      <td>0</td>\n",
       "      <td>AR</td>\n",
       "      <td>2012</td>\n",
       "      <td>564009</td>\n",
       "    </tr>\n",
       "    <tr>\n",
       "      <th>2</th>\n",
       "      <td>0</td>\n",
       "      <td>AS</td>\n",
       "      <td>2012</td>\n",
       "      <td>920593</td>\n",
       "    </tr>\n",
       "    <tr>\n",
       "      <th>3</th>\n",
       "      <td>0</td>\n",
       "      <td>CA</td>\n",
       "      <td>2012</td>\n",
       "      <td>2271548</td>\n",
       "    </tr>\n",
       "    <tr>\n",
       "      <th>4</th>\n",
       "      <td>0</td>\n",
       "      <td>CO</td>\n",
       "      <td>2012</td>\n",
       "      <td>495204</td>\n",
       "    </tr>\n",
       "  </tbody>\n",
       "</table>\n",
       "</div>"
      ],
      "text/plain": [
       "   CONGRESSIONAL_DISTRICT ORGANIZATION_STATE    FY  FY_TOTAL_COST\n",
       "0                       0                 AK  2012       68812110\n",
       "1                       0                 AR  2012         564009\n",
       "2                       0                 AS  2012         920593\n",
       "3                       0                 CA  2012        2271548\n",
       "4                       0                 CO  2012         495204"
      ]
     },
     "execution_count": 7,
     "metadata": {},
     "output_type": "execute_result"
    }
   ],
   "source": [
    "## Prepping data to be used for analysis\n",
    "fedrep = pd.DataFrame()\n",
    "for year in range(2012, 2019):\n",
    "    temp = pd.read_csv(\"/home/jovyan/Yandex.Disk/BigDataPubPol/data/projects/FedRePORTER_PRJ_C_FY{}.csv\".format(year), \n",
    "                 encoding='utf-8', skipinitialspace=True, low_memory=False)\n",
    "    \n",
    "    temp = temp[(temp['ORGANIZATION_COUNTRY'] == 'UNITED STATES')\n",
    "               ][\n",
    "        [\"CONGRESSIONAL_DISTRICT\", \"ORGANIZATION_STATE\",\"FY\", \"FY_TOTAL_COST\"]].groupby(\n",
    "        [\"CONGRESSIONAL_DISTRICT\",\"ORGANIZATION_STATE\", \"FY\"], as_index=False).sum()\n",
    "   \n",
    "    temp[\"CONGRESSIONAL_DISTRICT\"] = pd.to_numeric(temp[\"CONGRESSIONAL_DISTRICT\"])\n",
    "    temp[\"FY_TOTAL_COST\"] = pd.to_numeric(temp[\"FY_TOTAL_COST\"])\n",
    "\n",
    "    fedrep = fedrep.append(temp)\n",
    "\n",
    "fedrep.head()"
   ]
  },
  {
   "cell_type": "code",
   "execution_count": 8,
   "metadata": {},
   "outputs": [
    {
     "name": "stdout",
     "output_type": "stream",
     "text": [
      "Q1: I'm planning on using the **FedReporter** Data to use Fiscal Year Total Cost as a measure of funding received in each state and congressional district\n",
      "Sample size after filtering and grouping:  3253\n"
     ]
    }
   ],
   "source": [
    "print(\"Q1: I'm planning on using the **FedReporter** Data to use Fiscal Year Total Cost \"\n",
    "      \"as a measure of funding received in each state and congressional district\")\n",
    "\n",
    "print(\"Sample size after filtering and grouping: \", len(fedrep))"
   ]
  },
  {
   "cell_type": "code",
   "execution_count": 9,
   "metadata": {},
   "outputs": [
    {
     "name": "stdout",
     "output_type": "stream",
     "text": [
      "Q2: The following are the columns of data I plan on using to group on, filter, and later analyze on: \n",
      "['CONGRESSIONAL_DISTRICT', 'ORGANIZATION_STATE', 'FY', 'FY_TOTAL_COST']\n",
      "\n",
      "Characteristics of the data: \n",
      "There are 59 (too many) distinct states: \n",
      " ['AK' 'AR' 'AS' 'CA' 'CO' 'CT' 'DC' 'DE' 'FL' 'GU' 'HI' 'IA' 'ID' 'KY'\n",
      " 'MA' 'MD' 'MT' 'ND' 'OH' 'OK' 'PR' 'RI' 'SD' 'VA' 'VI' 'VT' 'WA' 'WY'\n",
      " 'AL' 'AZ' 'GA' 'IL' 'IN' 'KS' 'LA' 'ME' 'MI' 'MN' 'MO' 'MS' 'NC' 'NE'\n",
      " 'NH' 'NJ' 'NM' 'NV' 'NY' 'OR' 'PA' 'SC' 'TN' 'TX' 'UT' 'WI' 'WV' 'FM'\n",
      " 'MP' 'MH' 'PW']\n",
      "There are 57 distinct number of congressional districts: \n",
      " [ 0.  1.  2.  3.  4.  5.  6.  7.  8.  9. 10. 11. 12. 13. 14. 15. 16. 17.\n",
      " 18. 19. 20. 21. 22. 23. 24. 25. 26. 27. 28. 29. 30. 31. 32. 33. 34. 35.\n",
      " 36. 37. 38. 39. 40. 41. 42. 43. 44. 45. 46. 47. 48. 49. 50. 51. 52. 53.\n",
      " 90. 98. 99.]\n"
     ]
    }
   ],
   "source": [
    "print(\"Q2: The following are the columns of data I plan on using to \" \n",
    "      \"group on, filter, and later analyze on: \\n{}\".format(\n",
    "          [\"CONGRESSIONAL_DISTRICT\", \"ORGANIZATION_STATE\",\"FY\", \"FY_TOTAL_COST\"]))\n",
    "\n",
    "print(\"\\nCharacteristics of the data: \")\n",
    "print(\"There are {} (too many) distinct states: \\n\".format(len(fedrep[\"ORGANIZATION_STATE\"].unique())),\n",
    "      fedrep[\"ORGANIZATION_STATE\"].unique())\n",
    "print(\"There are {} distinct number of congressional districts: \\n\".format(len(fedrep[\"CONGRESSIONAL_DISTRICT\"].unique())), \n",
    "      fedrep[\"CONGRESSIONAL_DISTRICT\"].unique())\n"
   ]
  },
  {
   "cell_type": "code",
   "execution_count": 11,
   "metadata": {},
   "outputs": [
    {
     "name": "stdout",
     "output_type": "stream",
     "text": [
      "Q3: Lets look for some outliers:\n",
      "\n",
      "There are 15 congressional districts that received a total more than 1 billion USD.\n",
      "     CONGRESSIONAL_DISTRICT ORGANIZATION_STATE    FY  FY_TOTAL_COST\n",
      "236                       7                 MA  2018     2110716674\n",
      "235                       7                 MA  2017     2043737994\n",
      "241                       7                 MA  2016     1950632518\n",
      "252                       7                 MA  2014     1855155118\n",
      "252                       7                 MA  2015     1830340068\n",
      "There are 425 congressional districts that received less than 1 million USD.\n",
      "     CONGRESSIONAL_DISTRICT ORGANIZATION_STATE    FY  FY_TOTAL_COST\n",
      "19                        0                 OK  2012              0\n",
      "324                      11                 MA  2012              0\n",
      "15                        0                 OK  2013              0\n",
      "245                       7                 CA  2014              0\n",
      "435                      99                 DC  2017              0\n",
      "As we can see, there's a few congressional distrits that received more than 1 billion in research funds while there are more congressional districts towards the bottom end\n"
     ]
    }
   ],
   "source": [
    "print(\"Q3: Lets look for some outliers:\\n\")\n",
    "print(\"There are {} congressional districts that received a total more than 1 billion USD.\".format(\n",
    "    len(fedrep[fedrep[\"FY_TOTAL_COST\"] > 10**9])))\n",
    "print(fedrep.nlargest(5, 'FY_TOTAL_COST'))\n",
    "print(\"There are {} congressional districts that received less than 1 million USD.\".format(\n",
    "    len(fedrep[fedrep[\"FY_TOTAL_COST\"] < 1000000])))\n",
    "print(fedrep.nsmallest(5, 'FY_TOTAL_COST'))\n",
    "\n",
    "print(\"As we can see, there's a few congressional distrits that received more than 1 billion in research funds \"\n",
    "     \"while there are more congressional districts towards the bottom end\")"
   ]
  },
  {
   "cell_type": "code",
   "execution_count": 12,
   "metadata": {},
   "outputs": [
    {
     "name": "stdout",
     "output_type": "stream",
     "text": [
      " Q4: Data Quality Issues: \n",
      "Congressional District 0, 98, 99, these shouldn't exist\n",
      "CD-00:  152\n",
      "CD-99:  24\n",
      "CD-98:  46\n",
      "CD-90:  10\n",
      "As we can see there's a sizeable chunk of records that have a congressional district that makes no sense , or around 7.131878266215801% of records.\n",
      "These erroneous congress districts represent $6990402908.0 of total funding from across all fedReporter data in the shared directory that may not be included for analysis\n"
     ]
    }
   ],
   "source": [
    "print(\" Q4: Data Quality Issues: \\nCongressional District 0, 98, 99, these shouldn't exist\")\n",
    "print(\"CD-00: \", len(fedrep[fedrep[\"CONGRESSIONAL_DISTRICT\"] == 0]))\n",
    "print(\"CD-99: \", len(fedrep[fedrep[\"CONGRESSIONAL_DISTRICT\"] == 99]))\n",
    "print(\"CD-98: \", len(fedrep[fedrep[\"CONGRESSIONAL_DISTRICT\"] == 98]))\n",
    "print(\"CD-90: \", len(fedrep[fedrep[\"CONGRESSIONAL_DISTRICT\"] == 90]))\n",
    "print(\"As we can see there's a sizeable chunk of records that have a congressional district that makes no sense \"\n",
    "     \", or around {}% of records.\".format((152+24+46+10)*100/len(fedrep))\n",
    "     )\n",
    "\n",
    "print(\"These erroneous congress districts represent ${} of total funding from \"\n",
    "      \"across all fedReporter data in the shared directory that may not be included for analysis\".format(\n",
    "      sum(fedrep[fedrep[\"CONGRESSIONAL_DISTRICT\"].isin([0,99,98,90])][\"FY_TOTAL_COST\"])\n",
    "      ))"
   ]
  },
  {
   "cell_type": "code",
   "execution_count": 20,
   "metadata": {},
   "outputs": [
    {
     "name": "stdout",
     "output_type": "stream",
     "text": [
      "Q5: I plan to merge the FedReporter data with census and congressional data to add demographic and political data, which will help me advance my research.\n",
      "\n",
      "I plan to do this by joining on Congressional District number as the Census has data tables organized by congressional district thankfully. \n",
      "\n",
      "Then I'll do the same for political information (party affiliation, term length, etc.) of each district which should be easily mergeable on Congressional District too\n"
     ]
    }
   ],
   "source": [
    "print(\"Q5: I plan to merge the FedReporter data with census and congressional data \"\n",
    "     \"to add demographic and political data, which will help me advance my research.\")\n",
    "print(\"\\nI plan to do this by joining on Congressional District number as the Census has data tables organized by congressional district thankfully. \"\n",
    "     \"\\n\\nThen I'll do the same for political information (party affiliation, term length, etc.) of each district which should be easily mergeable on Congressional District too\"\n",
    "     )"
   ]
  },
  {
   "cell_type": "code",
   "execution_count": null,
   "metadata": {},
   "outputs": [],
   "source": []
  },
  {
   "cell_type": "code",
   "execution_count": 23,
   "metadata": {},
   "outputs": [
    {
     "data": {
      "image/png": "[encoded data removed]",
      "text/plain": [
       "<Figure size 360x360 with 1 Axes>"
      ]
     },
     "metadata": {
      "needs_background": "light"
     },
     "output_type": "display_data"
    }
   ],
   "source": [
    "def get_state_summary(fedrep_data, state):\n",
    "    return fedrep_data[fedrep_data[\"ORGANIZATION_STATE\"] == state][\n",
    "        [\"ORGANIZATION_STATE\", \"FY\", \"FY_TOTAL_COST\"]].groupby(\n",
    "        [\"ORGANIZATION_STATE\", \"FY\"], as_index=False).sum()\n",
    "\n",
    "fig, ax = plt.subplots(figsize=(5,5))\n",
    "for state in [\"NY\",\"CA\", \"TX\",\"CO\"]:\n",
    "    state_sum = get_state_summary(fedrep, state)\n",
    "    state_sum.plot(kind='line', x='FY', y='FY_TOTAL_COST', ax=ax, label=state)\n",
    "    \n",
    "plt.show()"
   ]
  },
  {
   "cell_type": "code",
   "execution_count": 24,
   "metadata": {},
   "outputs": [
    {
     "data": {
      "image/png": "[encoded data removed]",
      "text/plain": [
       "<Figure size 720x720 with 1 Axes>"
      ]
     },
     "metadata": {
      "needs_background": "light"
     },
     "output_type": "display_data"
    }
   ],
   "source": [
    "from statsmodels.graphics.regressionplots import abline_plot\n",
    "\n",
    "def get_district_summary(fedrep_data, state):\n",
    "    return fedrep_data[fedrep_data[\"ORGANIZATION_STATE\"] == state][\n",
    "        [\"CONGRESSIONAL_DISTRICT\", \"FY\", \"FY_TOTAL_COST\"]].groupby(\n",
    "        [\"CONGRESSIONAL_DISTRICT\",\"FY\"], as_index=False).sum()\n",
    "\n",
    "temp = get_district_summary(fedrep, \"CT\")\n",
    "\n",
    "fig, ax = plt.subplots(figsize=(10,10))\n",
    "for district in temp[\"CONGRESSIONAL_DISTRICT\"].unique():\n",
    "    dist_sum = temp[\n",
    "          (temp[\"CONGRESSIONAL_DISTRICT\"] == district)\n",
    "#         & (temp[\"FY_TOTAL_COST\"] < 100000000.)\n",
    "    ]\n",
    "#     if len(dist_sum):\n",
    "#         result = sm.ols(formula=\"FY_TOTAL_COST ~ FY \", data=dist_sum)\n",
    "#         print(\"Results {}: {}\".format(district, result.params))\n",
    "    dist_sum.plot(kind='line', x='FY', y='FY_TOTAL_COST', ax=ax, label=district)\n",
    "#         abline_plot(model_results=model.fit(), ax=ax)\n",
    "\n",
    "plt.show()"
   ]
  },
  {
   "cell_type": "code",
   "execution_count": 25,
   "metadata": {},
   "outputs": [
    {
     "name": "stdout",
     "output_type": "stream",
     "text": [
      "Q4: Another data quality concern:\n",
      "\n",
      "Some of these states have congressional district labels that are above the number of actual districts they posses\n",
      "How can we be sure that those entries with district labels within expected values are indeed correct?\n"
     ]
    }
   ],
   "source": [
    "print(\"Q4: Another data quality concern:\\n\")\n",
    "print(\"Some of these states have congressional district labels that are above the number of actual districts they posses\")\n",
    "print(\"How can we be sure that those entries with district labels within expected values are indeed correct?\")"
   ]
  },
  {
   "cell_type": "code",
   "execution_count": null,
   "metadata": {},
   "outputs": [],
   "source": []
  }
 ],
 "metadata": {
  "kernelspec": {
   "display_name": "Python 3",
   "language": "python",
   "name": "python3"
  },
  "language_info": {
   "codemirror_mode": {
    "name": "ipython",
    "version": 3
   },
   "file_extension": ".py",
   "mimetype": "text/x-python",
   "name": "python",
   "nbconvert_exporter": "python",
   "pygments_lexer": "ipython3",
   "version": "3.7.6"
  }
 },
 "nbformat": 4,
 "nbformat_minor": 4
}
